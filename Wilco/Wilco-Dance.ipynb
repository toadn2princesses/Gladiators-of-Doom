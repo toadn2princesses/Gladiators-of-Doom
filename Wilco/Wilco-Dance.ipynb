{
 "cells": [
  {
   "cell_type": "code",
   "execution_count": null,
   "id": "c711b116",
   "metadata": {},
   "outputs": [],
   "source": [
    "import time\n",
    "import math"
   ]
  },
  {
   "cell_type": "code",
   "execution_count": null,
   "id": "a2ee9797",
   "metadata": {},
   "outputs": [],
   "source": [
    "print(\"Lets Dance!\")"
   ]
  },
  {
   "cell_type": "code",
   "execution_count": null,
   "id": "1de6a7e0",
   "metadata": {},
   "outputs": [],
   "source": [
    "Start_Time = time()"
   ]
  },
  {
   "cell_type": "code",
   "execution_count": null,
   "id": "7e2371ae",
   "metadata": {},
   "outputs": [],
   "source": [
    "print(\"Date\", Start_Time)"
   ]
  },
  {
   "cell_type": "code",
   "execution_count": null,
   "id": "d5b889d7",
   "metadata": {},
   "outputs": [],
   "source": [
    "%run /home/spillingvoid/programs/Wilco/Dance/WilcorDoom2A.ipynb"
   ]
  },
  {
   "cell_type": "code",
   "execution_count": null,
   "id": "622dbb8d",
   "metadata": {},
   "outputs": [],
   "source": [
    "%run /home/spillingvoid/programs/Wilco/Dance/WilcorDoom2B.ipynb"
   ]
  },
  {
   "cell_type": "code",
   "execution_count": null,
   "id": "124decc2",
   "metadata": {},
   "outputs": [],
   "source": [
    "%run /home/spillingvoid/programs/Wilco/Dance/WilcorDoom2C.ipynb"
   ]
  },
  {
   "cell_type": "code",
   "execution_count": null,
   "id": "7ed9c910",
   "metadata": {},
   "outputs": [],
   "source": [
    "%run /home/spillingvoid/programs/Wilco/Dance/WilcorDoom2D.ipynb"
   ]
  },
  {
   "cell_type": "code",
   "execution_count": null,
   "id": "67222d63",
   "metadata": {},
   "outputs": [],
   "source": [
    "%run /home/spillingvoid/programs/Wilco/Dance/WilcorDoom2E.ipynb"
   ]
  },
  {
   "cell_type": "code",
   "execution_count": null,
   "id": "2e060146",
   "metadata": {},
   "outputs": [],
   "source": [
    "%run /home/spillingvoid/programs/Wilco/Dance/WilcorDoom2F.ipynb"
   ]
  },
  {
   "cell_type": "code",
   "execution_count": null,
   "id": "74b5494d",
   "metadata": {},
   "outputs": [],
   "source": [
    "%run /home/spillingvoid/programs/Wilco/Dance/WilcorDoom2G.ipynb"
   ]
  },
  {
   "cell_type": "code",
   "execution_count": null,
   "id": "26a339c2",
   "metadata": {},
   "outputs": [],
   "source": [
    "%run /home/spillingvoid/programs/Wilco/Dance/WilcorDoom2H.ipynb"
   ]
  },
  {
   "cell_type": "code",
   "execution_count": null,
   "id": "52abefa7",
   "metadata": {},
   "outputs": [],
   "source": [
    "%run /home/spillingvoid/programs/Wilco/Dance/WilcorDoom2i.ipynb"
   ]
  },
  {
   "cell_type": "code",
   "execution_count": null,
   "id": "549d5bab",
   "metadata": {},
   "outputs": [],
   "source": [
    "%run /home/spillingvoid/programs/Wilco/Dance/WilcorDoom2J.ipynb"
   ]
  },
  {
   "cell_type": "code",
   "execution_count": null,
   "id": "3ff5f8f6",
   "metadata": {},
   "outputs": [],
   "source": [
    "%run /home/spillingvoid/programs/Wilco/Dance/WilcorDoom2K.ipynb"
   ]
  },
  {
   "cell_type": "code",
   "execution_count": null,
   "id": "2c664edb",
   "metadata": {},
   "outputs": [],
   "source": [
    "%run /home/spillingvoid/programs/Wilco/Dance/WilcorDoom2L.ipynb"
   ]
  },
  {
   "cell_type": "code",
   "execution_count": null,
   "id": "dff80907",
   "metadata": {},
   "outputs": [],
   "source": [
    "%run /home/spillingvoid/programs/Wilco/Dance/WilcorDoom2M.ipynb"
   ]
  },
  {
   "cell_type": "code",
   "execution_count": null,
   "id": "e9fa388d",
   "metadata": {},
   "outputs": [],
   "source": [
    "%run /home/spillingvoid/programs/Wilco/Dance/WilcorDoom2N.ipynb"
   ]
  },
  {
   "cell_type": "code",
   "execution_count": null,
   "id": "49feb3de",
   "metadata": {},
   "outputs": [],
   "source": [
    "%run /home/spillingvoid/programs/Wilco/Dance/WilcorDoom2Q.ipynb"
   ]
  },
  {
   "cell_type": "code",
   "execution_count": null,
   "id": "59fb1285",
   "metadata": {},
   "outputs": [],
   "source": [
    "%run /home/spillingvoid/programs/Wilco/Dance/WilcorDoom2R.ipynb"
   ]
  },
  {
   "cell_type": "code",
   "execution_count": null,
   "id": "0a6c159b",
   "metadata": {},
   "outputs": [],
   "source": [
    "%run /home/spillingvoid/programs/Wilco/Dance/WilcorDoom2S.ipynb"
   ]
  },
  {
   "cell_type": "code",
   "execution_count": null,
   "id": "1c1bf576",
   "metadata": {},
   "outputs": [],
   "source": [
    "%run /home/spillingvoid/programs/Wilco/Dance/WilcorDoom2T.ipynb"
   ]
  },
  {
   "cell_type": "code",
   "execution_count": null,
   "id": "13cbb968",
   "metadata": {},
   "outputs": [],
   "source": [
    "%run /home/spillingvoid/programs/Wilco/Dance/WilcorDoom2U.ipynb"
   ]
  },
  {
   "cell_type": "code",
   "execution_count": null,
   "id": "a146ff1c",
   "metadata": {},
   "outputs": [],
   "source": [
    "%run /home/spillingvoid/programs/Wilco/Dance/WilcorDoom2V.ipynb"
   ]
  },
  {
   "cell_type": "code",
   "execution_count": null,
   "id": "65223fbe",
   "metadata": {},
   "outputs": [],
   "source": [
    "%run /home/spillingvoid/programs/Wilco/Dance/WilcorDoom2W.ipynb"
   ]
  },
  {
   "cell_type": "code",
   "execution_count": null,
   "id": "37e3053e",
   "metadata": {},
   "outputs": [],
   "source": [
    "%run /home/spillingvoid/programs/Wilco/Dance/WilcorDoom2X.ipynb"
   ]
  },
  {
   "cell_type": "code",
   "execution_count": null,
   "id": "de399b66",
   "metadata": {},
   "outputs": [],
   "source": [
    "%run /home/spillingvoid/programs/Wilco/Dance/WilcorDoom2Y.ipynb"
   ]
  },
  {
   "cell_type": "code",
   "execution_count": null,
   "id": "95933050",
   "metadata": {},
   "outputs": [],
   "source": [
    "%run /home/spillingvoid/programs/Wilco/Dance/WilcorDoom2Z.ipynb"
   ]
  },
  {
   "cell_type": "code",
   "execution_count": null,
   "id": "d128b91a",
   "metadata": {},
   "outputs": [],
   "source": [
    "%run /home/spillingvoid/programs/Wilco/Dance/WilcorDoom2ZA.ipynb"
   ]
  },
  {
   "cell_type": "code",
   "execution_count": null,
   "id": "e5c1332d",
   "metadata": {},
   "outputs": [],
   "source": [
    "%run /home/spillingvoid/programs/Wilco/Dance/WilcorDoom2ZB.ipynb"
   ]
  },
  {
   "cell_type": "code",
   "execution_count": null,
   "id": "0652d41b",
   "metadata": {},
   "outputs": [],
   "source": [
    "End_Time = time()\n",
    "print(\"End Time\", End_Time)\n",
    "print(\"Time Elapsed\", End_Time-Start_Time)"
   ]
  }
 ],
 "metadata": {
  "kernelspec": {
   "display_name": "Python 3",
   "language": "python",
   "name": "python3"
  },
  "language_info": {
   "codemirror_mode": {
    "name": "ipython",
    "version": 3
   },
   "file_extension": ".py",
   "mimetype": "text/x-python",
   "name": "python",
   "nbconvert_exporter": "python",
   "pygments_lexer": "ipython3",
   "version": "3.8.10"
  }
 },
 "nbformat": 4,
 "nbformat_minor": 5
}
