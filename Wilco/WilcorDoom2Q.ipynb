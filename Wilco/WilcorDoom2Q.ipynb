{
 "cells": [
  {
   "cell_type": "code",
   "execution_count": 1,
   "id": "9a78c087",
   "metadata": {},
   "outputs": [],
   "source": [
    "#!/usr/bin/env python3\n",
    "# -*- coding: utf-8 -*-\n",
    "\n",
    "# E. Culurciello, L. Mueller, Z. Boztoprak\n",
    "# December 2020\n",
    "\n",
    "from __future__ import print_function\n",
    "import vizdoom as vzd\n",
    "import torch\n",
    "import torch.nn as nn\n",
    "import torch.optim as optim\n",
    "import numpy as np\n",
    "import random\n",
    "import itertools as it\n",
    "import skimage.transform\n",
    "\n",
    "from vizdoom import Mode\n",
    "from time import sleep, time\n",
    "from collections import deque\n",
    "from tqdm import trange"
   ]
  },
  {
   "cell_type": "code",
   "execution_count": null,
   "id": "08b52e37",
   "metadata": {},
   "outputs": [],
   "source": [
    "#GPU epoch 64 steps 12000 batch 64 test ep 100: 919.33 minutes ~24 hours"
   ]
  },
  {
   "cell_type": "code",
   "execution_count": 2,
   "id": "ced1b4b8",
   "metadata": {},
   "outputs": [],
   "source": [
    "# Q-learning settings\n",
    "learning_rate = 0.00025\n",
    "discount_factor = 0.99\n",
    "train_epochs = 64\n",
    "learning_steps_per_epoch = 12000\n",
    "replay_memory_size = 1000000\n",
    "\n",
    "# NN learning settings\n",
    "batch_size = 64\n",
    "\n",
    "# Training regime\n",
    "test_episodes_per_epoch = 100\n",
    "\n",
    "# Other parameters\n",
    "frame_repeat = 4\n",
    "resolution = (30, 45)\n",
    "episodes_to_watch = 10\n",
    "\n",
    "model_savefile = \"/home/spillingvoid/programs/Wilco/model/wilco-doom-gladiator.pth\"\n",
    "save_model = True\n",
    "load_model = True\n",
    "skip_learning = False"
   ]
  },
  {
   "cell_type": "code",
   "execution_count": 3,
   "id": "f521b485",
   "metadata": {},
   "outputs": [],
   "source": [
    "# Configuration file path\n",
    "#config_file_path = \"/home/spillingvoid/programs/ViZDoom/scenarios/simpler_basic.cfg\"\n",
    "config_file_path = \"/home/spillingvoid/programs/ViZDoom/scenarios/Doom10.cfg\"\n",
    "# config_file_path = \"/home/spillingvoid/programs/ViZDoom/scenarios/basic.cfg\""
   ]
  },
  {
   "cell_type": "code",
   "execution_count": 4,
   "id": "f4980251",
   "metadata": {},
   "outputs": [],
   "source": [
    "# Uses GPU if available\n",
    "if torch.cuda.is_available():\n",
    "    DEVICE = torch.device('cuda')\n",
    "    torch.backends.cudnn.benchmark = True\n",
    "else:\n",
    "    DEVICE = torch.device('cpu')"
   ]
  },
  {
   "cell_type": "code",
   "execution_count": 5,
   "id": "8e34438b",
   "metadata": {},
   "outputs": [
    {
     "name": "stdout",
     "output_type": "stream",
     "text": [
      "Device used cuda\n"
     ]
    }
   ],
   "source": [
    "print(\"Device used\", DEVICE)"
   ]
  },
  {
   "cell_type": "code",
   "execution_count": 6,
   "id": "caba7232",
   "metadata": {},
   "outputs": [],
   "source": [
    "def preprocess(img):\n",
    "    \"\"\"Down samples image to resolution\"\"\"\n",
    "    img = skimage.transform.resize(img, resolution)\n",
    "    img = img.astype(np.float32)\n",
    "    img = np.expand_dims(img, axis=0)\n",
    "    return img\n",
    "\n",
    "\n",
    "def create_simple_game():\n",
    "    print(\"Initializing doom...\")\n",
    "    game = vzd.DoomGame()\n",
    "    game.load_config(config_file_path)\n",
    "    game.set_window_visible(True)\n",
    "    game.set_mode(Mode.PLAYER)\n",
    "    game.set_screen_format(vzd.ScreenFormat.GRAY8)\n",
    "    game.set_screen_resolution(vzd.ScreenResolution.RES_640X480)\n",
    "    game.init()\n",
    "    print(\"Doom initialized.\")\n",
    "\n",
    "    return game\n",
    "\n",
    "\n",
    "def test(game, agent):\n",
    "    \"\"\"Runs a test_episodes_per_epoch episodes and prints the result\"\"\"\n",
    "    print(\"\\nTesting...\")\n",
    "    test_scores = []\n",
    "    for test_episode in trange(test_episodes_per_epoch, leave=False):\n",
    "        game.new_episode()\n",
    "        while not game.is_episode_finished():\n",
    "            state = preprocess(game.get_state().screen_buffer)\n",
    "            best_action_index = agent.get_action(state)\n",
    "\n",
    "            game.make_action(actions[best_action_index], frame_repeat)\n",
    "        r = game.get_total_reward()\n",
    "        test_scores.append(r)\n",
    "\n",
    "    test_scores = np.array(test_scores)\n",
    "    print(\"Results: mean: %.1f +/- %.1f,\" % (\n",
    "        test_scores.mean(), test_scores.std()), \"min: %.1f\" % test_scores.min(),\n",
    "          \"max: %.1f\" % test_scores.max())"
   ]
  },
  {
   "cell_type": "code",
   "execution_count": 7,
   "id": "a4eefbdf",
   "metadata": {},
   "outputs": [],
   "source": [
    "def run(game, agent, actions, num_epochs, frame_repeat, steps_per_epoch=2000):\n",
    "    \"\"\"\n",
    "    Run num epochs of training episodes.\n",
    "    Skip frame_repeat number of frames after each action.\n",
    "    \"\"\"\n",
    "\n",
    "    start_time = time()\n",
    "\n",
    "    for epoch in range(num_epochs):\n",
    "        game.new_episode()\n",
    "        train_scores = []\n",
    "        global_step = 0\n",
    "        print(\"\\nEpoch #\" + str(epoch + 1))\n",
    "\n",
    "        for _ in trange(steps_per_epoch, leave=False):\n",
    "            state = preprocess(game.get_state().screen_buffer)\n",
    "            action = agent.get_action(state)\n",
    "            reward = game.make_action(actions[action], frame_repeat)\n",
    "            done = game.is_episode_finished()\n",
    "\n",
    "            if not done:\n",
    "                next_state = preprocess(game.get_state().screen_buffer)\n",
    "            else:\n",
    "                next_state = np.zeros((1, 30, 45)).astype(np.float32)\n",
    "\n",
    "            agent.append_memory(state, action, reward, next_state, done)\n",
    "\n",
    "            if global_step > agent.batch_size:\n",
    "                agent.train()\n",
    "\n",
    "            if done:\n",
    "                train_scores.append(game.get_total_reward())\n",
    "                game.new_episode()\n",
    "\n",
    "            global_step += 1\n",
    "\n",
    "        agent.update_target_net()\n",
    "        train_scores = np.array(train_scores)\n",
    "\n",
    "        print(\"Results: mean: %.1f +/- %.1f,\" % (train_scores.mean(), train_scores.std()),\n",
    "              \"min: %.1f,\" % train_scores.min(), \"max: %.1f,\" % train_scores.max())\n",
    "\n",
    "        test(game, agent)\n",
    "        if save_model:\n",
    "            print(\"Saving the network weights to:\", model_savefile)\n",
    "            torch.save(agent.q_net, model_savefile)\n",
    "        print(\"Total elapsed time: %.2f minutes\" % ((time() - start_time) / 60.0))\n",
    "\n",
    "    game.close()\n",
    "    return agent, game"
   ]
  },
  {
   "cell_type": "code",
   "execution_count": 8,
   "id": "13eeb825",
   "metadata": {},
   "outputs": [],
   "source": [
    "class DuelQNet(nn.Module):\n",
    "    \"\"\"\n",
    "    This is Duel DQN architecture.\n",
    "    see https://arxiv.org/abs/1511.06581 for more information.\n",
    "    \"\"\"\n",
    "\n",
    "    def __init__(self, available_actions_count):\n",
    "        super(DuelQNet, self).__init__()\n",
    "        self.conv1 = nn.Sequential(\n",
    "            nn.Conv2d(1, 8, kernel_size=3, stride=2, bias=True),\n",
    "            nn.BatchNorm2d(8),\n",
    "            nn.ReLU()\n",
    "        )\n",
    "\n",
    "        self.conv2 = nn.Sequential(\n",
    "            nn.Conv2d(8, 8, kernel_size=3, stride=2, bias=True),\n",
    "            nn.BatchNorm2d(8),\n",
    "            nn.ReLU()\n",
    "        )\n",
    "\n",
    "        self.conv3 = nn.Sequential(\n",
    "            nn.Conv2d(8, 8, kernel_size=3, stride=1, bias=True),\n",
    "            nn.BatchNorm2d(8),\n",
    "            nn.ReLU()\n",
    "        )\n",
    "\n",
    "        self.conv4 = nn.Sequential(\n",
    "            nn.Conv2d(8, 16, kernel_size=3, stride=1, bias=True),\n",
    "            nn.BatchNorm2d(16),\n",
    "            nn.ReLU()\n",
    "        )\n",
    "\n",
    "        self.state_fc = nn.Sequential(\n",
    "            nn.Linear(96, 64),\n",
    "            nn.ReLU(),\n",
    "            nn.Linear(64, 1)\n",
    "        )\n",
    "\n",
    "        self.advantage_fc = nn.Sequential(\n",
    "            nn.Linear(96, 64),\n",
    "            nn.ReLU(),\n",
    "            nn.Linear(64, available_actions_count)\n",
    "        )\n",
    "\n",
    "    def forward(self, x):\n",
    "        x = self.conv1(x)\n",
    "        x = self.conv2(x)\n",
    "        x = self.conv3(x)\n",
    "        x = self.conv4(x)\n",
    "        x = x.view(-1, 192)\n",
    "        x1 = x[:, :96]  # input for the net to calculate the state value\n",
    "        x2 = x[:, 96:]  # relative advantage of actions in the state\n",
    "        state_value = self.state_fc(x1).reshape(-1, 1)\n",
    "        advantage_values = self.advantage_fc(x2)\n",
    "        x = state_value + (advantage_values - advantage_values.mean(dim=1).reshape(-1, 1))\n",
    "\n",
    "        return x"
   ]
  },
  {
   "cell_type": "code",
   "execution_count": 9,
   "id": "f81c8551",
   "metadata": {},
   "outputs": [],
   "source": [
    "class DQNAgent:\n",
    "    def __init__(self, action_size, memory_size, batch_size, discount_factor, \n",
    "                 lr, load_model, epsilon=1, epsilon_decay=0.9996, epsilon_min=0.1):\n",
    "        self.action_size = action_size\n",
    "        self.epsilon = epsilon\n",
    "        self.epsilon_decay = epsilon_decay\n",
    "        self.epsilon_min = epsilon_min\n",
    "        self.batch_size = batch_size\n",
    "        self.discount = discount_factor\n",
    "        self.lr = lr\n",
    "        self.memory = deque(maxlen=memory_size)\n",
    "        self.criterion = nn.MSELoss()\n",
    "\n",
    "        if load_model:\n",
    "            print(\"Loading model from: \", model_savefile)\n",
    "            self.q_net = torch.load(model_savefile)\n",
    "            self.target_net = torch.load(model_savefile)\n",
    "            self.epsilon = self.epsilon_min\n",
    "\n",
    "        else:\n",
    "            print(\"Initializing new model\")\n",
    "            self.q_net = DuelQNet(action_size).to(DEVICE)\n",
    "            self.target_net = DuelQNet(action_size).to(DEVICE)\n",
    "\n",
    "        self.opt = optim.SGD(self.q_net.parameters(), lr=self.lr)\n",
    "\n",
    "    def get_action(self, state):\n",
    "        if np.random.uniform() < self.epsilon:\n",
    "            return random.choice(range(self.action_size))\n",
    "        else:\n",
    "            state = np.expand_dims(state, axis=0)\n",
    "            state = torch.from_numpy(state).float().to(DEVICE)\n",
    "            action = torch.argmax(self.q_net(state)).item()\n",
    "            return action\n",
    "\n",
    "    def update_target_net(self):\n",
    "        print(\"Updating Target Net\")\n",
    "        self.target_net.load_state_dict(self.q_net.state_dict())\n",
    "\n",
    "    def append_memory(self, state, action, reward, next_state, done):\n",
    "        self.memory.append((state, action, reward, next_state, done))\n",
    "\n",
    "    def train(self):\n",
    "        \n",
    "        batch = random.sample(self.memory, self.batch_size)\n",
    "        batch = np.array(batch, dtype=object)\n",
    "\n",
    "        states = np.stack(batch[:, 0]).astype(float)\n",
    "        actions = batch[:, 1].astype(int)\n",
    "        rewards = batch[:, 2].astype(float)\n",
    "        next_states = np.stack(batch[:, 3]).astype(float)\n",
    "        dones = batch[:, 4].astype(bool)\n",
    "        not_dones = ~dones\n",
    "\n",
    "        row_idx = np.arange(self.batch_size)  # used for indexing the batch\n",
    "\n",
    "        # value of the next states with double q learning\n",
    "        # see https://arxiv.org/abs/1509.06461 for more information on double q learning\n",
    "        with torch.no_grad():\n",
    "            next_states = torch.from_numpy(next_states).float().to(DEVICE)\n",
    "            idx = row_idx, np.argmax(self.q_net(next_states).cpu().data.numpy(), 1)\n",
    "            next_state_values = self.target_net(next_states).cpu().data.numpy()[idx]\n",
    "            next_state_values = next_state_values[not_dones]\n",
    "\n",
    "        # this defines y = r + discount * max_a q(s', a)\n",
    "        q_targets = rewards.copy()\n",
    "        q_targets[not_dones] += self.discount * next_state_values\n",
    "        q_targets = torch.from_numpy(q_targets).float().to(DEVICE)\n",
    "\n",
    "        # this selects only the q values of the actions taken\n",
    "        idx = row_idx, actions\n",
    "        states = torch.from_numpy(states).float().to(DEVICE)\n",
    "        action_values = self.q_net(states)[idx].float().to(DEVICE)\n",
    "\n",
    "        self.opt.zero_grad()\n",
    "        td_error = self.criterion(q_targets, action_values)\n",
    "        td_error.backward()\n",
    "        self.opt.step()\n",
    "\n",
    "        if self.epsilon > self.epsilon_min:\n",
    "            self.epsilon *= self.epsilon_decay\n",
    "        else:\n",
    "            self.epsilon = self.epsilon_min"
   ]
  },
  {
   "cell_type": "code",
   "execution_count": 10,
   "id": "61a3ff52",
   "metadata": {},
   "outputs": [
    {
     "name": "stdout",
     "output_type": "stream",
     "text": [
      "Initializing doom...\n",
      "Doom initialized.\n",
      "Loading model from:  /home/spillingvoid/programs/Wilco/model/wilco-doom.pth\n"
     ]
    },
    {
     "name": "stderr",
     "output_type": "stream",
     "text": [
      "\r",
      "  0%|          | 0/12000 [00:00<?, ?it/s]"
     ]
    },
    {
     "name": "stdout",
     "output_type": "stream",
     "text": [
      "\n",
      "Epoch #1\n"
     ]
    },
    {
     "name": "stderr",
     "output_type": "stream",
     "text": [
      "  0%|          | 0/100 [00:00<?, ?it/s]              "
     ]
    },
    {
     "name": "stdout",
     "output_type": "stream",
     "text": [
      "Updating Target Net\n",
      "Results: mean: -25.9 +/- 107.1, min: -360.0, max: 66.0,\n",
      "\n",
      "Testing...\n"
     ]
    },
    {
     "name": "stderr",
     "output_type": "stream",
     "text": [
      "/home/spillingvoid/anaconda3/lib/python3.8/site-packages/torch/serialization.py:359: UserWarning: Couldn't retrieve source code for container of type DuelQNet. It won't be checked for correctness upon loading.\n",
      "  warnings.warn(\"Couldn't retrieve source code for container of \"\n",
      "  0%|          | 2/12000 [00:00<10:58, 18.21it/s]"
     ]
    },
    {
     "name": "stdout",
     "output_type": "stream",
     "text": [
      "Results: mean: -3.7 +/- 86.0, min: -335.0 max: 66.0\n",
      "Saving the network weights to: /home/spillingvoid/programs/Wilco/model/wilco-doom.pth\n",
      "Total elapsed time: 14.66 minutes\n",
      "\n",
      "Epoch #2\n"
     ]
    },
    {
     "name": "stderr",
     "output_type": "stream",
     "text": [
      "  1%|          | 1/100 [00:00<00:11,  8.37it/s]      "
     ]
    },
    {
     "name": "stdout",
     "output_type": "stream",
     "text": [
      "Updating Target Net\n",
      "Results: mean: 5.1 +/- 84.4, min: -365.0, max: 66.0,\n",
      "\n",
      "Testing...\n"
     ]
    },
    {
     "name": "stderr",
     "output_type": "stream",
     "text": [
      "  0%|          | 2/12000 [00:00<10:47, 18.53it/s]"
     ]
    },
    {
     "name": "stdout",
     "output_type": "stream",
     "text": [
      "Results: mean: 20.7 +/- 63.8, min: -300.0 max: 66.0\n",
      "Saving the network weights to: /home/spillingvoid/programs/Wilco/model/wilco-doom.pth\n",
      "Total elapsed time: 30.07 minutes\n",
      "\n",
      "Epoch #3\n"
     ]
    },
    {
     "name": "stderr",
     "output_type": "stream",
     "text": [
      "  0%|          | 0/100 [00:00<?, ?it/s]              "
     ]
    },
    {
     "name": "stdout",
     "output_type": "stream",
     "text": [
      "Updating Target Net\n",
      "Results: mean: 3.5 +/- 80.6, min: -360.0, max: 66.0,\n",
      "\n",
      "Testing...\n"
     ]
    },
    {
     "name": "stderr",
     "output_type": "stream",
     "text": [
      "  0%|          | 2/12000 [00:00<11:29, 17.40it/s]"
     ]
    },
    {
     "name": "stdout",
     "output_type": "stream",
     "text": [
      "Results: mean: -0.3 +/- 81.7, min: -310.0 max: 66.0\n",
      "Saving the network weights to: /home/spillingvoid/programs/Wilco/model/wilco-doom.pth\n",
      "Total elapsed time: 45.62 minutes\n",
      "\n",
      "Epoch #4\n"
     ]
    },
    {
     "name": "stderr",
     "output_type": "stream",
     "text": [
      "  0%|          | 0/100 [00:00<?, ?it/s]              "
     ]
    },
    {
     "name": "stdout",
     "output_type": "stream",
     "text": [
      "Updating Target Net\n",
      "Results: mean: 7.0 +/- 77.1, min: -355.0, max: 66.0,\n",
      "\n",
      "Testing...\n"
     ]
    },
    {
     "name": "stderr",
     "output_type": "stream",
     "text": [
      "  0%|          | 2/12000 [00:00<12:37, 15.84it/s]"
     ]
    },
    {
     "name": "stdout",
     "output_type": "stream",
     "text": [
      "Results: mean: -4.2 +/- 93.8, min: -335.0 max: 66.0\n",
      "Saving the network weights to: /home/spillingvoid/programs/Wilco/model/wilco-doom.pth\n",
      "Total elapsed time: 61.16 minutes\n",
      "\n",
      "Epoch #5\n"
     ]
    },
    {
     "name": "stderr",
     "output_type": "stream",
     "text": [
      "  0%|          | 0/100 [00:00<?, ?it/s]              "
     ]
    },
    {
     "name": "stdout",
     "output_type": "stream",
     "text": [
      "Updating Target Net\n",
      "Results: mean: 12.2 +/- 73.5, min: -350.0, max: 66.0,\n",
      "\n",
      "Testing...\n"
     ]
    },
    {
     "name": "stderr",
     "output_type": "stream",
     "text": [
      "  0%|          | 2/12000 [00:00<12:09, 16.44it/s]"
     ]
    },
    {
     "name": "stdout",
     "output_type": "stream",
     "text": [
      "Results: mean: 10.4 +/- 82.6, min: -340.0 max: 66.0\n",
      "Saving the network weights to: /home/spillingvoid/programs/Wilco/model/wilco-doom.pth\n",
      "Total elapsed time: 76.68 minutes\n",
      "\n",
      "Epoch #6\n"
     ]
    },
    {
     "name": "stderr",
     "output_type": "stream",
     "text": [
      "  0%|          | 0/100 [00:00<?, ?it/s]              "
     ]
    },
    {
     "name": "stdout",
     "output_type": "stream",
     "text": [
      "Updating Target Net\n",
      "Results: mean: 2.3 +/- 85.7, min: -355.0, max: 66.0,\n",
      "\n",
      "Testing...\n"
     ]
    },
    {
     "name": "stderr",
     "output_type": "stream",
     "text": [
      "  0%|          | 2/12000 [00:00<11:26, 17.48it/s]"
     ]
    },
    {
     "name": "stdout",
     "output_type": "stream",
     "text": [
      "Results: mean: -1.3 +/- 93.5, min: -320.0 max: 66.0\n",
      "Saving the network weights to: /home/spillingvoid/programs/Wilco/model/wilco-doom.pth\n",
      "Total elapsed time: 90.87 minutes\n",
      "\n",
      "Epoch #7\n"
     ]
    },
    {
     "name": "stderr",
     "output_type": "stream",
     "text": [
      "  1%|          | 1/100 [00:00<00:14,  6.64it/s]      "
     ]
    },
    {
     "name": "stdout",
     "output_type": "stream",
     "text": [
      "Updating Target Net\n",
      "Results: mean: -7.1 +/- 95.2, min: -360.0, max: 66.0,\n",
      "\n",
      "Testing...\n"
     ]
    },
    {
     "name": "stderr",
     "output_type": "stream",
     "text": [
      "  0%|          | 2/12000 [00:00<10:01, 19.95it/s]"
     ]
    },
    {
     "name": "stdout",
     "output_type": "stream",
     "text": [
      "Results: mean: -17.1 +/- 115.2, min: -325.0 max: 66.0\n",
      "Saving the network weights to: /home/spillingvoid/programs/Wilco/model/wilco-doom.pth\n",
      "Total elapsed time: 104.72 minutes\n",
      "\n",
      "Epoch #8\n"
     ]
    },
    {
     "name": "stderr",
     "output_type": "stream",
     "text": [
      "  1%|          | 1/100 [00:00<00:15,  6.40it/s]      "
     ]
    },
    {
     "name": "stdout",
     "output_type": "stream",
     "text": [
      "Updating Target Net\n",
      "Results: mean: -9.7 +/- 101.9, min: -345.0, max: 66.0,\n",
      "\n",
      "Testing...\n"
     ]
    },
    {
     "name": "stderr",
     "output_type": "stream",
     "text": [
      "  0%|          | 2/12000 [00:00<11:17, 17.71it/s]"
     ]
    },
    {
     "name": "stdout",
     "output_type": "stream",
     "text": [
      "Results: mean: 2.9 +/- 90.9, min: -325.0 max: 66.0\n",
      "Saving the network weights to: /home/spillingvoid/programs/Wilco/model/wilco-doom.pth\n",
      "Total elapsed time: 118.56 minutes\n",
      "\n",
      "Epoch #9\n"
     ]
    },
    {
     "name": "stderr",
     "output_type": "stream",
     "text": [
      "  0%|          | 0/100 [00:00<?, ?it/s]              "
     ]
    },
    {
     "name": "stdout",
     "output_type": "stream",
     "text": [
      "Updating Target Net\n",
      "Results: mean: -11.1 +/- 100.2, min: -355.0, max: 66.0,\n",
      "\n",
      "Testing...\n"
     ]
    },
    {
     "name": "stderr",
     "output_type": "stream",
     "text": [
      "  0%|          | 2/12000 [00:00<10:19, 19.38it/s]"
     ]
    },
    {
     "name": "stdout",
     "output_type": "stream",
     "text": [
      "Results: mean: -30.3 +/- 118.1, min: -340.0 max: 66.0\n",
      "Saving the network weights to: /home/spillingvoid/programs/Wilco/model/wilco-doom.pth\n",
      "Total elapsed time: 132.63 minutes\n",
      "\n",
      "Epoch #10\n"
     ]
    },
    {
     "name": "stderr",
     "output_type": "stream",
     "text": [
      "  1%|          | 1/100 [00:00<00:14,  6.85it/s]      "
     ]
    },
    {
     "name": "stdout",
     "output_type": "stream",
     "text": [
      "Updating Target Net\n",
      "Results: mean: -40.1 +/- 120.9, min: -350.0, max: 66.0,\n",
      "\n",
      "Testing...\n"
     ]
    },
    {
     "name": "stderr",
     "output_type": "stream",
     "text": [
      "  0%|          | 3/12000 [00:00<10:09, 19.68it/s]"
     ]
    },
    {
     "name": "stdout",
     "output_type": "stream",
     "text": [
      "Results: mean: -51.4 +/- 134.6, min: -335.0 max: 66.0\n",
      "Saving the network weights to: /home/spillingvoid/programs/Wilco/model/wilco-doom.pth\n",
      "Total elapsed time: 146.80 minutes\n",
      "\n",
      "Epoch #11\n"
     ]
    },
    {
     "name": "stderr",
     "output_type": "stream",
     "text": [
      "  0%|          | 0/100 [00:00<?, ?it/s]              "
     ]
    },
    {
     "name": "stdout",
     "output_type": "stream",
     "text": [
      "Updating Target Net\n",
      "Results: mean: -45.1 +/- 120.8, min: -365.0, max: 66.0,\n",
      "\n",
      "Testing...\n"
     ]
    },
    {
     "name": "stderr",
     "output_type": "stream",
     "text": [
      "  0%|          | 0/12000 [00:00<?, ?it/s]        "
     ]
    },
    {
     "name": "stdout",
     "output_type": "stream",
     "text": [
      "Results: mean: -62.1 +/- 134.0, min: -345.0 max: 66.0\n",
      "Saving the network weights to: /home/spillingvoid/programs/Wilco/model/wilco-doom.pth\n",
      "Total elapsed time: 160.99 minutes\n",
      "\n",
      "Epoch #12\n"
     ]
    },
    {
     "name": "stderr",
     "output_type": "stream",
     "text": [
      "  0%|          | 0/100 [00:00<?, ?it/s]              "
     ]
    },
    {
     "name": "stdout",
     "output_type": "stream",
     "text": [
      "Updating Target Net\n",
      "Results: mean: -71.7 +/- 129.2, min: -365.0, max: 66.0,\n",
      "\n",
      "Testing...\n"
     ]
    },
    {
     "name": "stderr",
     "output_type": "stream",
     "text": [
      "  0%|          | 2/12000 [00:00<11:36, 17.22it/s]"
     ]
    },
    {
     "name": "stdout",
     "output_type": "stream",
     "text": [
      "Results: mean: -58.6 +/- 128.0, min: -335.0 max: 66.0\n",
      "Saving the network weights to: /home/spillingvoid/programs/Wilco/model/wilco-doom.pth\n",
      "Total elapsed time: 175.15 minutes\n",
      "\n",
      "Epoch #13\n"
     ]
    },
    {
     "name": "stderr",
     "output_type": "stream",
     "text": [
      "  0%|          | 0/100 [00:00<?, ?it/s]              "
     ]
    },
    {
     "name": "stdout",
     "output_type": "stream",
     "text": [
      "Updating Target Net\n",
      "Results: mean: -99.1 +/- 140.3, min: -360.0, max: 66.0,\n",
      "\n",
      "Testing...\n"
     ]
    },
    {
     "name": "stderr",
     "output_type": "stream",
     "text": [
      "  0%|          | 3/12000 [00:00<10:37, 18.81it/s]"
     ]
    },
    {
     "name": "stdout",
     "output_type": "stream",
     "text": [
      "Results: mean: -99.6 +/- 137.4, min: -340.0 max: 66.0\n",
      "Saving the network weights to: /home/spillingvoid/programs/Wilco/model/wilco-doom.pth\n",
      "Total elapsed time: 189.23 minutes\n",
      "\n",
      "Epoch #14\n"
     ]
    },
    {
     "name": "stderr",
     "output_type": "stream",
     "text": [
      "  0%|          | 0/100 [00:00<?, ?it/s]              "
     ]
    },
    {
     "name": "stdout",
     "output_type": "stream",
     "text": [
      "Updating Target Net\n",
      "Results: mean: -104.0 +/- 142.8, min: -360.0, max: 66.0,\n",
      "\n",
      "Testing...\n"
     ]
    },
    {
     "name": "stderr",
     "output_type": "stream",
     "text": [
      "  0%|          | 2/12000 [00:00<11:32, 17.31it/s]"
     ]
    },
    {
     "name": "stdout",
     "output_type": "stream",
     "text": [
      "Results: mean: -104.3 +/- 140.4, min: -340.0 max: 66.0\n",
      "Saving the network weights to: /home/spillingvoid/programs/Wilco/model/wilco-doom.pth\n",
      "Total elapsed time: 203.51 minutes\n",
      "\n",
      "Epoch #15\n"
     ]
    },
    {
     "name": "stderr",
     "output_type": "stream",
     "text": [
      "  0%|          | 0/100 [00:00<?, ?it/s]              "
     ]
    },
    {
     "name": "stdout",
     "output_type": "stream",
     "text": [
      "Updating Target Net\n",
      "Results: mean: -113.8 +/- 141.9, min: -350.0, max: 66.0,\n",
      "\n",
      "Testing...\n"
     ]
    },
    {
     "name": "stderr",
     "output_type": "stream",
     "text": [
      "  0%|          | 2/12000 [00:00<10:52, 18.40it/s]"
     ]
    },
    {
     "name": "stdout",
     "output_type": "stream",
     "text": [
      "Results: mean: -131.3 +/- 135.8, min: -335.0 max: 66.0\n",
      "Saving the network weights to: /home/spillingvoid/programs/Wilco/model/wilco-doom.pth\n",
      "Total elapsed time: 217.89 minutes\n",
      "\n",
      "Epoch #16\n"
     ]
    },
    {
     "name": "stderr",
     "output_type": "stream",
     "text": [
      "  0%|          | 0/100 [00:00<?, ?it/s]              "
     ]
    },
    {
     "name": "stdout",
     "output_type": "stream",
     "text": [
      "Updating Target Net\n",
      "Results: mean: -114.8 +/- 148.1, min: -350.0, max: 66.0,\n",
      "\n",
      "Testing...\n"
     ]
    },
    {
     "name": "stderr",
     "output_type": "stream",
     "text": [
      "  0%|          | 2/12000 [00:00<11:09, 17.92it/s]"
     ]
    },
    {
     "name": "stdout",
     "output_type": "stream",
     "text": [
      "Results: mean: -103.7 +/- 156.2, min: -355.0 max: 66.0\n",
      "Saving the network weights to: /home/spillingvoid/programs/Wilco/model/wilco-doom.pth\n",
      "Total elapsed time: 232.04 minutes\n",
      "\n",
      "Epoch #17\n"
     ]
    },
    {
     "name": "stderr",
     "output_type": "stream",
     "text": [
      "  0%|          | 0/100 [00:00<?, ?it/s]              "
     ]
    },
    {
     "name": "stdout",
     "output_type": "stream",
     "text": [
      "Updating Target Net\n",
      "Results: mean: -111.2 +/- 150.2, min: -370.0, max: 66.0,\n",
      "\n",
      "Testing...\n"
     ]
    },
    {
     "name": "stderr",
     "output_type": "stream",
     "text": [
      "  0%|          | 2/12000 [00:00<12:35, 15.88it/s]"
     ]
    },
    {
     "name": "stdout",
     "output_type": "stream",
     "text": [
      "Results: mean: -153.9 +/- 150.1, min: -350.0 max: 66.0\n",
      "Saving the network weights to: /home/spillingvoid/programs/Wilco/model/wilco-doom.pth\n",
      "Total elapsed time: 246.41 minutes\n",
      "\n",
      "Epoch #18\n"
     ]
    },
    {
     "name": "stderr",
     "output_type": "stream",
     "text": [
      "  0%|          | 0/100 [00:00<?, ?it/s]              "
     ]
    },
    {
     "name": "stdout",
     "output_type": "stream",
     "text": [
      "Updating Target Net\n",
      "Results: mean: -116.9 +/- 152.0, min: -365.0, max: 66.0,\n",
      "\n",
      "Testing...\n"
     ]
    },
    {
     "name": "stderr",
     "output_type": "stream",
     "text": [
      "  0%|          | 0/12000 [00:00<?, ?it/s]        "
     ]
    },
    {
     "name": "stdout",
     "output_type": "stream",
     "text": [
      "Results: mean: -125.5 +/- 160.2, min: -345.0 max: 66.0\n",
      "Saving the network weights to: /home/spillingvoid/programs/Wilco/model/wilco-doom.pth\n",
      "Total elapsed time: 260.66 minutes\n",
      "\n",
      "Epoch #19\n"
     ]
    },
    {
     "name": "stderr",
     "output_type": "stream",
     "text": [
      "  1%|          | 1/100 [00:00<00:17,  5.62it/s]      "
     ]
    },
    {
     "name": "stdout",
     "output_type": "stream",
     "text": [
      "Updating Target Net\n",
      "Results: mean: -104.7 +/- 152.2, min: -365.0, max: 66.0,\n",
      "\n",
      "Testing...\n"
     ]
    },
    {
     "name": "stderr",
     "output_type": "stream",
     "text": [
      "  0%|          | 2/12000 [00:00<10:47, 18.54it/s]"
     ]
    },
    {
     "name": "stdout",
     "output_type": "stream",
     "text": [
      "Results: mean: -83.8 +/- 137.0, min: -360.0 max: 66.0\n",
      "Saving the network weights to: /home/spillingvoid/programs/Wilco/model/wilco-doom.pth\n",
      "Total elapsed time: 274.75 minutes\n",
      "\n",
      "Epoch #20\n"
     ]
    },
    {
     "name": "stderr",
     "output_type": "stream",
     "text": [
      "  0%|          | 0/100 [00:00<?, ?it/s]              "
     ]
    },
    {
     "name": "stdout",
     "output_type": "stream",
     "text": [
      "Updating Target Net\n",
      "Results: mean: -92.9 +/- 152.6, min: -365.0, max: 66.0,\n",
      "\n",
      "Testing...\n"
     ]
    },
    {
     "name": "stderr",
     "output_type": "stream",
     "text": [
      "  0%|          | 2/12000 [00:00<11:48, 16.93it/s]"
     ]
    },
    {
     "name": "stdout",
     "output_type": "stream",
     "text": [
      "Results: mean: -101.0 +/- 154.9, min: -340.0 max: 66.0\n",
      "Saving the network weights to: /home/spillingvoid/programs/Wilco/model/wilco-doom.pth\n",
      "Total elapsed time: 288.93 minutes\n",
      "\n",
      "Epoch #21\n"
     ]
    },
    {
     "name": "stderr",
     "output_type": "stream",
     "text": [
      "  0%|          | 0/100 [00:00<?, ?it/s]              "
     ]
    },
    {
     "name": "stdout",
     "output_type": "stream",
     "text": [
      "Updating Target Net\n",
      "Results: mean: -104.8 +/- 154.1, min: -365.0, max: 66.0,\n",
      "\n",
      "Testing...\n"
     ]
    },
    {
     "name": "stderr",
     "output_type": "stream",
     "text": [
      "  0%|          | 2/12000 [00:00<11:49, 16.90it/s]"
     ]
    },
    {
     "name": "stdout",
     "output_type": "stream",
     "text": [
      "Results: mean: -108.2 +/- 148.7, min: -350.0 max: 66.0\n",
      "Saving the network weights to: /home/spillingvoid/programs/Wilco/model/wilco-doom.pth\n",
      "Total elapsed time: 303.14 minutes\n",
      "\n",
      "Epoch #22\n"
     ]
    },
    {
     "name": "stderr",
     "output_type": "stream",
     "text": [
      "  0%|          | 0/100 [00:00<?, ?it/s]              "
     ]
    },
    {
     "name": "stdout",
     "output_type": "stream",
     "text": [
      "Updating Target Net\n",
      "Results: mean: -102.8 +/- 151.7, min: -355.0, max: 66.0,\n",
      "\n",
      "Testing...\n"
     ]
    },
    {
     "name": "stderr",
     "output_type": "stream",
     "text": [
      "  0%|          | 2/12000 [00:00<12:48, 15.62it/s]"
     ]
    },
    {
     "name": "stdout",
     "output_type": "stream",
     "text": [
      "Results: mean: -119.4 +/- 155.2, min: -350.0 max: 66.0\n",
      "Saving the network weights to: /home/spillingvoid/programs/Wilco/model/wilco-doom.pth\n",
      "Total elapsed time: 317.45 minutes\n",
      "\n",
      "Epoch #23\n"
     ]
    },
    {
     "name": "stderr",
     "output_type": "stream",
     "text": [
      "  0%|          | 0/100 [00:00<?, ?it/s]              "
     ]
    },
    {
     "name": "stdout",
     "output_type": "stream",
     "text": [
      "Updating Target Net\n",
      "Results: mean: -108.2 +/- 153.7, min: -355.0, max: 66.0,\n",
      "\n",
      "Testing...\n"
     ]
    },
    {
     "name": "stderr",
     "output_type": "stream",
     "text": [
      "  0%|          | 0/12000 [00:00<?, ?it/s]        "
     ]
    },
    {
     "name": "stdout",
     "output_type": "stream",
     "text": [
      "Results: mean: -138.4 +/- 159.7, min: -345.0 max: 66.0\n",
      "Saving the network weights to: /home/spillingvoid/programs/Wilco/model/wilco-doom.pth\n",
      "Total elapsed time: 331.83 minutes\n",
      "\n",
      "Epoch #24\n"
     ]
    },
    {
     "name": "stderr",
     "output_type": "stream",
     "text": [
      "  0%|          | 0/100 [00:00<?, ?it/s]              "
     ]
    },
    {
     "name": "stdout",
     "output_type": "stream",
     "text": [
      "Updating Target Net\n",
      "Results: mean: -126.5 +/- 155.2, min: -355.0, max: 66.0,\n",
      "\n",
      "Testing...\n"
     ]
    },
    {
     "name": "stderr",
     "output_type": "stream",
     "text": [
      "  0%|          | 2/12000 [00:00<13:55, 14.35it/s]"
     ]
    },
    {
     "name": "stdout",
     "output_type": "stream",
     "text": [
      "Results: mean: -104.9 +/- 147.6, min: -345.0 max: 66.0\n",
      "Saving the network weights to: /home/spillingvoid/programs/Wilco/model/wilco-doom.pth\n",
      "Total elapsed time: 346.08 minutes\n",
      "\n",
      "Epoch #25\n"
     ]
    },
    {
     "name": "stderr",
     "output_type": "stream",
     "text": [
      "  1%|          | 1/100 [00:00<00:15,  6.46it/s]      "
     ]
    },
    {
     "name": "stdout",
     "output_type": "stream",
     "text": [
      "Updating Target Net\n",
      "Results: mean: -90.2 +/- 146.6, min: -355.0, max: 66.0,\n",
      "\n",
      "Testing...\n"
     ]
    },
    {
     "name": "stderr",
     "output_type": "stream",
     "text": [
      "  0%|          | 2/12000 [00:00<12:15, 16.31it/s]"
     ]
    },
    {
     "name": "stdout",
     "output_type": "stream",
     "text": [
      "Results: mean: -118.0 +/- 152.9, min: -350.0 max: 66.0\n",
      "Saving the network weights to: /home/spillingvoid/programs/Wilco/model/wilco-doom.pth\n",
      "Total elapsed time: 360.29 minutes\n",
      "\n",
      "Epoch #26\n"
     ]
    },
    {
     "name": "stderr",
     "output_type": "stream",
     "text": [
      "  0%|          | 0/100 [00:00<?, ?it/s]              "
     ]
    },
    {
     "name": "stdout",
     "output_type": "stream",
     "text": [
      "Updating Target Net\n",
      "Results: mean: -87.3 +/- 149.4, min: -350.0, max: 66.0,\n",
      "\n",
      "Testing...\n"
     ]
    },
    {
     "name": "stderr",
     "output_type": "stream",
     "text": [
      "  0%|          | 2/12000 [00:00<11:01, 18.14it/s]"
     ]
    },
    {
     "name": "stdout",
     "output_type": "stream",
     "text": [
      "Results: mean: -72.8 +/- 144.4, min: -345.0 max: 66.0\n",
      "Saving the network weights to: /home/spillingvoid/programs/Wilco/model/wilco-doom.pth\n",
      "Total elapsed time: 374.38 minutes\n",
      "\n",
      "Epoch #27\n"
     ]
    },
    {
     "name": "stderr",
     "output_type": "stream",
     "text": [
      "  1%|          | 1/100 [00:00<00:14,  6.66it/s]      "
     ]
    },
    {
     "name": "stdout",
     "output_type": "stream",
     "text": [
      "Updating Target Net\n",
      "Results: mean: -113.6 +/- 160.1, min: -355.0, max: 66.0,\n",
      "\n",
      "Testing...\n"
     ]
    },
    {
     "name": "stderr",
     "output_type": "stream",
     "text": [
      "  0%|          | 2/12000 [00:00<11:43, 17.05it/s]"
     ]
    },
    {
     "name": "stdout",
     "output_type": "stream",
     "text": [
      "Results: mean: -98.2 +/- 155.9, min: -355.0 max: 66.0\n",
      "Saving the network weights to: /home/spillingvoid/programs/Wilco/model/wilco-doom.pth\n",
      "Total elapsed time: 388.45 minutes\n",
      "\n",
      "Epoch #28\n"
     ]
    },
    {
     "name": "stderr",
     "output_type": "stream",
     "text": [
      "  0%|          | 0/100 [00:00<?, ?it/s]              "
     ]
    },
    {
     "name": "stdout",
     "output_type": "stream",
     "text": [
      "Updating Target Net\n",
      "Results: mean: -84.6 +/- 153.0, min: -355.0, max: 66.0,\n",
      "\n",
      "Testing...\n"
     ]
    },
    {
     "name": "stderr",
     "output_type": "stream",
     "text": [
      "  0%|          | 3/12000 [00:00<09:23, 21.30it/s]"
     ]
    },
    {
     "name": "stdout",
     "output_type": "stream",
     "text": [
      "Results: mean: -100.9 +/- 155.6, min: -345.0 max: 66.0\n",
      "Saving the network weights to: /home/spillingvoid/programs/Wilco/model/wilco-doom.pth\n",
      "Total elapsed time: 402.58 minutes\n",
      "\n",
      "Epoch #29\n"
     ]
    },
    {
     "name": "stderr",
     "output_type": "stream",
     "text": [
      "  0%|          | 0/100 [00:00<?, ?it/s]              "
     ]
    },
    {
     "name": "stdout",
     "output_type": "stream",
     "text": [
      "Updating Target Net\n",
      "Results: mean: -101.8 +/- 155.5, min: -365.0, max: 66.0,\n",
      "\n",
      "Testing...\n"
     ]
    },
    {
     "name": "stderr",
     "output_type": "stream",
     "text": [
      "  0%|          | 2/12000 [00:00<11:21, 17.61it/s]"
     ]
    },
    {
     "name": "stdout",
     "output_type": "stream",
     "text": [
      "Results: mean: -109.4 +/- 155.0, min: -330.0 max: 66.0\n",
      "Saving the network weights to: /home/spillingvoid/programs/Wilco/model/wilco-doom.pth\n",
      "Total elapsed time: 416.74 minutes\n",
      "\n",
      "Epoch #30\n"
     ]
    },
    {
     "name": "stderr",
     "output_type": "stream",
     "text": [
      "  0%|          | 0/100 [00:00<?, ?it/s]              "
     ]
    },
    {
     "name": "stdout",
     "output_type": "stream",
     "text": [
      "Updating Target Net\n",
      "Results: mean: -76.2 +/- 145.8, min: -365.0, max: 66.0,\n",
      "\n",
      "Testing...\n"
     ]
    },
    {
     "name": "stderr",
     "output_type": "stream",
     "text": [
      "  0%|          | 2/12000 [00:00<12:44, 15.69it/s]"
     ]
    },
    {
     "name": "stdout",
     "output_type": "stream",
     "text": [
      "Results: mean: -92.7 +/- 159.1, min: -345.0 max: 66.0\n",
      "Saving the network weights to: /home/spillingvoid/programs/Wilco/model/wilco-doom.pth\n",
      "Total elapsed time: 431.06 minutes\n",
      "\n",
      "Epoch #31\n"
     ]
    },
    {
     "name": "stderr",
     "output_type": "stream",
     "text": [
      "  0%|          | 0/100 [00:00<?, ?it/s]              "
     ]
    },
    {
     "name": "stdout",
     "output_type": "stream",
     "text": [
      "Updating Target Net\n",
      "Results: mean: -60.6 +/- 136.0, min: -365.0, max: 66.0,\n",
      "\n",
      "Testing...\n"
     ]
    },
    {
     "name": "stderr",
     "output_type": "stream",
     "text": [
      "  0%|          | 2/12000 [00:00<12:31, 15.96it/s]"
     ]
    },
    {
     "name": "stdout",
     "output_type": "stream",
     "text": [
      "Results: mean: -60.1 +/- 137.6, min: -340.0 max: 66.0\n",
      "Saving the network weights to: /home/spillingvoid/programs/Wilco/model/wilco-doom.pth\n",
      "Total elapsed time: 445.18 minutes\n",
      "\n",
      "Epoch #32\n"
     ]
    },
    {
     "name": "stderr",
     "output_type": "stream",
     "text": [
      "  1%|          | 1/100 [00:00<00:14,  7.07it/s]      "
     ]
    },
    {
     "name": "stdout",
     "output_type": "stream",
     "text": [
      "Updating Target Net\n",
      "Results: mean: -49.3 +/- 128.0, min: -365.0, max: 66.0,\n",
      "\n",
      "Testing...\n"
     ]
    },
    {
     "name": "stderr",
     "output_type": "stream",
     "text": [
      "  0%|          | 2/12000 [00:00<11:04, 18.06it/s]"
     ]
    },
    {
     "name": "stdout",
     "output_type": "stream",
     "text": [
      "Results: mean: -63.8 +/- 129.0, min: -345.0 max: 66.0\n",
      "Saving the network weights to: /home/spillingvoid/programs/Wilco/model/wilco-doom.pth\n",
      "Total elapsed time: 459.37 minutes\n",
      "\n",
      "Epoch #33\n"
     ]
    },
    {
     "name": "stderr",
     "output_type": "stream",
     "text": [
      "  1%|          | 1/100 [00:00<00:13,  7.21it/s]      "
     ]
    },
    {
     "name": "stdout",
     "output_type": "stream",
     "text": [
      "Updating Target Net\n",
      "Results: mean: -44.1 +/- 120.8, min: -355.0, max: 66.0,\n",
      "\n",
      "Testing...\n"
     ]
    },
    {
     "name": "stderr",
     "output_type": "stream",
     "text": [
      "  0%|          | 2/12000 [00:00<10:14, 19.52it/s]"
     ]
    },
    {
     "name": "stdout",
     "output_type": "stream",
     "text": [
      "Results: mean: -44.8 +/- 121.5, min: -330.0 max: 66.0\n",
      "Saving the network weights to: /home/spillingvoid/programs/Wilco/model/wilco-doom.pth\n",
      "Total elapsed time: 473.48 minutes\n",
      "\n",
      "Epoch #34\n"
     ]
    },
    {
     "name": "stderr",
     "output_type": "stream",
     "text": [
      "  0%|          | 0/100 [00:00<?, ?it/s]              "
     ]
    },
    {
     "name": "stdout",
     "output_type": "stream",
     "text": [
      "Updating Target Net\n",
      "Results: mean: -50.7 +/- 129.4, min: -350.0, max: 66.0,\n",
      "\n",
      "Testing...\n"
     ]
    },
    {
     "name": "stderr",
     "output_type": "stream",
     "text": [
      "  0%|          | 2/12000 [00:00<10:37, 18.81it/s]"
     ]
    },
    {
     "name": "stdout",
     "output_type": "stream",
     "text": [
      "Results: mean: -68.7 +/- 134.8, min: -355.0 max: 66.0\n",
      "Saving the network weights to: /home/spillingvoid/programs/Wilco/model/wilco-doom.pth\n",
      "Total elapsed time: 487.87 minutes\n",
      "\n",
      "Epoch #35\n"
     ]
    },
    {
     "name": "stderr",
     "output_type": "stream",
     "text": [
      "  0%|          | 0/100 [00:00<?, ?it/s]              "
     ]
    },
    {
     "name": "stdout",
     "output_type": "stream",
     "text": [
      "Updating Target Net\n",
      "Results: mean: -57.7 +/- 135.2, min: -350.0, max: 66.0,\n",
      "\n",
      "Testing...\n"
     ]
    },
    {
     "name": "stderr",
     "output_type": "stream",
     "text": [
      "  0%|          | 2/12000 [00:00<11:42, 17.07it/s]"
     ]
    },
    {
     "name": "stdout",
     "output_type": "stream",
     "text": [
      "Results: mean: -93.8 +/- 150.2, min: -335.0 max: 66.0\n",
      "Saving the network weights to: /home/spillingvoid/programs/Wilco/model/wilco-doom.pth\n",
      "Total elapsed time: 502.06 minutes\n",
      "\n",
      "Epoch #36\n"
     ]
    },
    {
     "name": "stderr",
     "output_type": "stream",
     "text": [
      "  0%|          | 0/100 [00:00<?, ?it/s]              "
     ]
    },
    {
     "name": "stdout",
     "output_type": "stream",
     "text": [
      "Updating Target Net\n",
      "Results: mean: -66.5 +/- 139.0, min: -355.0, max: 66.0,\n",
      "\n",
      "Testing...\n"
     ]
    },
    {
     "name": "stderr",
     "output_type": "stream",
     "text": [
      "  0%|          | 2/12000 [00:00<10:55, 18.29it/s]"
     ]
    },
    {
     "name": "stdout",
     "output_type": "stream",
     "text": [
      "Results: mean: -62.3 +/- 140.5, min: -340.0 max: 66.0\n",
      "Saving the network weights to: /home/spillingvoid/programs/Wilco/model/wilco-doom.pth\n",
      "Total elapsed time: 516.20 minutes\n",
      "\n",
      "Epoch #37\n"
     ]
    },
    {
     "name": "stderr",
     "output_type": "stream",
     "text": [
      "  1%|          | 1/100 [00:00<00:18,  5.28it/s]      "
     ]
    },
    {
     "name": "stdout",
     "output_type": "stream",
     "text": [
      "Updating Target Net\n",
      "Results: mean: -61.6 +/- 137.6, min: -355.0, max: 66.0,\n",
      "\n",
      "Testing...\n"
     ]
    },
    {
     "name": "stderr",
     "output_type": "stream",
     "text": [
      "  0%|          | 0/12000 [00:00<?, ?it/s]        "
     ]
    },
    {
     "name": "stdout",
     "output_type": "stream",
     "text": [
      "Results: mean: -61.0 +/- 140.2, min: -350.0 max: 66.0\n",
      "Saving the network weights to: /home/spillingvoid/programs/Wilco/model/wilco-doom.pth\n",
      "Total elapsed time: 530.35 minutes\n",
      "\n",
      "Epoch #38\n"
     ]
    },
    {
     "name": "stderr",
     "output_type": "stream",
     "text": [
      "  0%|          | 0/100 [00:00<?, ?it/s]              "
     ]
    },
    {
     "name": "stdout",
     "output_type": "stream",
     "text": [
      "Updating Target Net\n",
      "Results: mean: -68.0 +/- 135.4, min: -355.0, max: 66.0,\n",
      "\n",
      "Testing...\n"
     ]
    },
    {
     "name": "stderr",
     "output_type": "stream",
     "text": [
      "  0%|          | 3/12000 [00:00<10:19, 19.35it/s]"
     ]
    },
    {
     "name": "stdout",
     "output_type": "stream",
     "text": [
      "Results: mean: -61.8 +/- 140.2, min: -335.0 max: 66.0\n",
      "Saving the network weights to: /home/spillingvoid/programs/Wilco/model/wilco-doom.pth\n",
      "Total elapsed time: 544.60 minutes\n",
      "\n",
      "Epoch #39\n"
     ]
    },
    {
     "name": "stderr",
     "output_type": "stream",
     "text": [
      "  0%|          | 0/100 [00:00<?, ?it/s]              "
     ]
    },
    {
     "name": "stdout",
     "output_type": "stream",
     "text": [
      "Updating Target Net\n",
      "Results: mean: -48.6 +/- 128.4, min: -360.0, max: 66.0,\n",
      "\n",
      "Testing...\n"
     ]
    },
    {
     "name": "stderr",
     "output_type": "stream",
     "text": [
      "  0%|          | 2/12000 [00:00<11:16, 17.74it/s]"
     ]
    },
    {
     "name": "stdout",
     "output_type": "stream",
     "text": [
      "Results: mean: -37.0 +/- 129.9, min: -345.0 max: 66.0\n",
      "Saving the network weights to: /home/spillingvoid/programs/Wilco/model/wilco-doom.pth\n",
      "Total elapsed time: 558.81 minutes\n",
      "\n",
      "Epoch #40\n"
     ]
    },
    {
     "name": "stderr",
     "output_type": "stream",
     "text": [
      "  0%|          | 0/100 [00:00<?, ?it/s]              "
     ]
    },
    {
     "name": "stdout",
     "output_type": "stream",
     "text": [
      "Updating Target Net\n",
      "Results: mean: -53.8 +/- 133.4, min: -355.0, max: 66.0,\n",
      "\n",
      "Testing...\n"
     ]
    },
    {
     "name": "stderr",
     "output_type": "stream",
     "text": [
      "  0%|          | 3/12000 [00:00<09:23, 21.29it/s]"
     ]
    },
    {
     "name": "stdout",
     "output_type": "stream",
     "text": [
      "Results: mean: -63.3 +/- 131.7, min: -335.0 max: 66.0\n",
      "Saving the network weights to: /home/spillingvoid/programs/Wilco/model/wilco-doom.pth\n",
      "Total elapsed time: 573.15 minutes\n",
      "\n",
      "Epoch #41\n"
     ]
    },
    {
     "name": "stderr",
     "output_type": "stream",
     "text": [
      "  0%|          | 0/100 [00:00<?, ?it/s]              "
     ]
    },
    {
     "name": "stdout",
     "output_type": "stream",
     "text": [
      "Updating Target Net\n",
      "Results: mean: -54.5 +/- 134.8, min: -355.0, max: 66.0,\n",
      "\n",
      "Testing...\n"
     ]
    },
    {
     "name": "stderr",
     "output_type": "stream",
     "text": [
      "  0%|          | 2/12000 [00:00<13:29, 14.81it/s]"
     ]
    },
    {
     "name": "stdout",
     "output_type": "stream",
     "text": [
      "Results: mean: -47.0 +/- 131.2, min: -335.0 max: 66.0\n",
      "Saving the network weights to: /home/spillingvoid/programs/Wilco/model/wilco-doom.pth\n",
      "Total elapsed time: 587.34 minutes\n",
      "\n",
      "Epoch #42\n"
     ]
    },
    {
     "name": "stderr",
     "output_type": "stream",
     "text": [
      "  1%|          | 1/100 [00:00<00:15,  6.44it/s]      "
     ]
    },
    {
     "name": "stdout",
     "output_type": "stream",
     "text": [
      "Updating Target Net\n",
      "Results: mean: -81.7 +/- 149.2, min: -360.0, max: 66.0,\n",
      "\n",
      "Testing...\n"
     ]
    },
    {
     "name": "stderr",
     "output_type": "stream",
     "text": [
      "  0%|          | 2/12000 [00:00<11:54, 16.78it/s]"
     ]
    },
    {
     "name": "stdout",
     "output_type": "stream",
     "text": [
      "Results: mean: -75.7 +/- 151.3, min: -345.0 max: 66.0\n",
      "Saving the network weights to: /home/spillingvoid/programs/Wilco/model/wilco-doom.pth\n",
      "Total elapsed time: 601.73 minutes\n",
      "\n",
      "Epoch #43\n"
     ]
    },
    {
     "name": "stderr",
     "output_type": "stream",
     "text": [
      "  0%|          | 0/100 [00:00<?, ?it/s]              "
     ]
    },
    {
     "name": "stdout",
     "output_type": "stream",
     "text": [
      "Updating Target Net\n",
      "Results: mean: -101.2 +/- 151.1, min: -350.0, max: 66.0,\n",
      "\n",
      "Testing...\n"
     ]
    },
    {
     "name": "stderr",
     "output_type": "stream",
     "text": [
      "  0%|          | 2/12000 [00:00<11:16, 17.74it/s]"
     ]
    },
    {
     "name": "stdout",
     "output_type": "stream",
     "text": [
      "Results: mean: -107.0 +/- 137.3, min: -340.0 max: 66.0\n",
      "Saving the network weights to: /home/spillingvoid/programs/Wilco/model/wilco-doom.pth\n",
      "Total elapsed time: 616.16 minutes\n",
      "\n",
      "Epoch #44\n"
     ]
    },
    {
     "name": "stderr",
     "output_type": "stream",
     "text": [
      "  1%|          | 1/100 [00:00<00:15,  6.24it/s]      "
     ]
    },
    {
     "name": "stdout",
     "output_type": "stream",
     "text": [
      "Updating Target Net\n",
      "Results: mean: -97.4 +/- 149.7, min: -355.0, max: 66.0,\n",
      "\n",
      "Testing...\n"
     ]
    },
    {
     "name": "stderr",
     "output_type": "stream",
     "text": [
      "  0%|          | 2/12000 [00:00<10:27, 19.11it/s]"
     ]
    },
    {
     "name": "stdout",
     "output_type": "stream",
     "text": [
      "Results: mean: -95.5 +/- 154.3, min: -340.0 max: 66.0\n",
      "Saving the network weights to: /home/spillingvoid/programs/Wilco/model/wilco-doom.pth\n",
      "Total elapsed time: 630.55 minutes\n",
      "\n",
      "Epoch #45\n"
     ]
    },
    {
     "name": "stderr",
     "output_type": "stream",
     "text": [
      "  0%|          | 0/100 [00:00<?, ?it/s]              "
     ]
    },
    {
     "name": "stdout",
     "output_type": "stream",
     "text": [
      "Updating Target Net\n",
      "Results: mean: -87.8 +/- 149.5, min: -355.0, max: 66.0,\n",
      "\n",
      "Testing...\n"
     ]
    },
    {
     "name": "stderr",
     "output_type": "stream",
     "text": [
      "  0%|          | 3/12000 [00:00<10:26, 19.15it/s]"
     ]
    },
    {
     "name": "stdout",
     "output_type": "stream",
     "text": [
      "Results: mean: -106.1 +/- 158.6, min: -345.0 max: 66.0\n",
      "Saving the network weights to: /home/spillingvoid/programs/Wilco/model/wilco-doom.pth\n",
      "Total elapsed time: 644.96 minutes\n",
      "\n",
      "Epoch #46\n"
     ]
    },
    {
     "name": "stderr",
     "output_type": "stream",
     "text": [
      "  0%|          | 0/100 [00:00<?, ?it/s]              "
     ]
    },
    {
     "name": "stdout",
     "output_type": "stream",
     "text": [
      "Updating Target Net\n",
      "Results: mean: -82.9 +/- 146.6, min: -350.0, max: 66.0,\n",
      "\n",
      "Testing...\n"
     ]
    },
    {
     "name": "stderr",
     "output_type": "stream",
     "text": [
      "  0%|          | 2/12000 [00:00<11:51, 16.87it/s]"
     ]
    },
    {
     "name": "stdout",
     "output_type": "stream",
     "text": [
      "Results: mean: -50.6 +/- 134.6, min: -360.0 max: 66.0\n",
      "Saving the network weights to: /home/spillingvoid/programs/Wilco/model/wilco-doom.pth\n",
      "Total elapsed time: 659.21 minutes\n",
      "\n",
      "Epoch #47\n"
     ]
    },
    {
     "name": "stderr",
     "output_type": "stream",
     "text": [
      "  1%|          | 1/100 [00:00<00:15,  6.31it/s]      "
     ]
    },
    {
     "name": "stdout",
     "output_type": "stream",
     "text": [
      "Updating Target Net\n",
      "Results: mean: -73.7 +/- 140.6, min: -345.0, max: 66.0,\n",
      "\n",
      "Testing...\n"
     ]
    },
    {
     "name": "stderr",
     "output_type": "stream",
     "text": [
      "  0%|          | 0/12000 [00:00<?, ?it/s]        "
     ]
    },
    {
     "name": "stdout",
     "output_type": "stream",
     "text": [
      "Results: mean: -48.6 +/- 132.2, min: -335.0 max: 66.0\n",
      "Saving the network weights to: /home/spillingvoid/programs/Wilco/model/wilco-doom.pth\n",
      "Total elapsed time: 673.58 minutes\n",
      "\n",
      "Epoch #48\n"
     ]
    },
    {
     "name": "stderr",
     "output_type": "stream",
     "text": [
      "  0%|          | 0/100 [00:00<?, ?it/s]              "
     ]
    },
    {
     "name": "stdout",
     "output_type": "stream",
     "text": [
      "Updating Target Net\n",
      "Results: mean: -58.6 +/- 134.0, min: -350.0, max: 66.0,\n",
      "\n",
      "Testing...\n"
     ]
    },
    {
     "name": "stderr",
     "output_type": "stream",
     "text": [
      "  0%|          | 2/12000 [00:00<11:00, 18.17it/s]"
     ]
    },
    {
     "name": "stdout",
     "output_type": "stream",
     "text": [
      "Results: mean: -68.6 +/- 146.5, min: -340.0 max: 66.0\n",
      "Saving the network weights to: /home/spillingvoid/programs/Wilco/model/wilco-doom.pth\n",
      "Total elapsed time: 687.93 minutes\n",
      "\n",
      "Epoch #49\n"
     ]
    },
    {
     "name": "stderr",
     "output_type": "stream",
     "text": [
      "  1%|          | 1/100 [00:00<00:14,  6.98it/s]      "
     ]
    },
    {
     "name": "stdout",
     "output_type": "stream",
     "text": [
      "Updating Target Net\n",
      "Results: mean: -51.2 +/- 129.5, min: -350.0, max: 66.0,\n",
      "\n",
      "Testing...\n"
     ]
    },
    {
     "name": "stderr",
     "output_type": "stream",
     "text": [
      "  0%|          | 2/12000 [00:00<10:26, 19.16it/s]"
     ]
    },
    {
     "name": "stdout",
     "output_type": "stream",
     "text": [
      "Results: mean: -61.1 +/- 135.0, min: -340.0 max: 66.0\n",
      "Saving the network weights to: /home/spillingvoid/programs/Wilco/model/wilco-doom.pth\n",
      "Total elapsed time: 702.39 minutes\n",
      "\n",
      "Epoch #50\n"
     ]
    },
    {
     "name": "stderr",
     "output_type": "stream",
     "text": [
      "  1%|          | 1/100 [00:00<00:16,  6.14it/s]      "
     ]
    },
    {
     "name": "stdout",
     "output_type": "stream",
     "text": [
      "Updating Target Net\n",
      "Results: mean: -64.9 +/- 137.0, min: -355.0, max: 66.0,\n",
      "\n",
      "Testing...\n"
     ]
    },
    {
     "name": "stderr",
     "output_type": "stream",
     "text": [
      "  0%|          | 2/12000 [00:00<11:05, 18.04it/s]"
     ]
    },
    {
     "name": "stdout",
     "output_type": "stream",
     "text": [
      "Results: mean: -70.6 +/- 141.4, min: -350.0 max: 66.0\n",
      "Saving the network weights to: /home/spillingvoid/programs/Wilco/model/wilco-doom.pth\n",
      "Total elapsed time: 716.80 minutes\n",
      "\n",
      "Epoch #51\n"
     ]
    },
    {
     "name": "stderr",
     "output_type": "stream",
     "text": [
      "  0%|          | 0/100 [00:00<?, ?it/s]              "
     ]
    },
    {
     "name": "stdout",
     "output_type": "stream",
     "text": [
      "Updating Target Net\n",
      "Results: mean: -63.1 +/- 134.8, min: -355.0, max: 66.0,\n",
      "\n",
      "Testing...\n"
     ]
    },
    {
     "name": "stderr",
     "output_type": "stream",
     "text": [
      "  0%|          | 2/12000 [00:00<12:03, 16.59it/s]"
     ]
    },
    {
     "name": "stdout",
     "output_type": "stream",
     "text": [
      "Results: mean: -76.2 +/- 133.4, min: -340.0 max: 66.0\n",
      "Saving the network weights to: /home/spillingvoid/programs/Wilco/model/wilco-doom.pth\n",
      "Total elapsed time: 731.29 minutes\n",
      "\n",
      "Epoch #52\n"
     ]
    },
    {
     "name": "stderr",
     "output_type": "stream",
     "text": [
      "  1%|          | 1/100 [00:00<00:18,  5.45it/s]      "
     ]
    },
    {
     "name": "stdout",
     "output_type": "stream",
     "text": [
      "Updating Target Net\n",
      "Results: mean: -71.7 +/- 140.3, min: -345.0, max: 66.0,\n",
      "\n",
      "Testing...\n"
     ]
    },
    {
     "name": "stderr",
     "output_type": "stream",
     "text": [
      "  0%|          | 2/12000 [00:00<11:49, 16.91it/s]"
     ]
    },
    {
     "name": "stdout",
     "output_type": "stream",
     "text": [
      "Results: mean: -53.9 +/- 118.3, min: -335.0 max: 66.0\n",
      "Saving the network weights to: /home/spillingvoid/programs/Wilco/model/wilco-doom.pth\n",
      "Total elapsed time: 745.70 minutes\n",
      "\n",
      "Epoch #53\n"
     ]
    },
    {
     "name": "stderr",
     "output_type": "stream",
     "text": [
      "  1%|          | 1/100 [00:00<00:17,  5.53it/s]      "
     ]
    },
    {
     "name": "stdout",
     "output_type": "stream",
     "text": [
      "Updating Target Net\n",
      "Results: mean: -38.5 +/- 123.2, min: -355.0, max: 66.0,\n",
      "\n",
      "Testing...\n"
     ]
    },
    {
     "name": "stderr",
     "output_type": "stream",
     "text": [
      "  0%|          | 2/12000 [00:00<10:24, 19.23it/s]"
     ]
    },
    {
     "name": "stdout",
     "output_type": "stream",
     "text": [
      "Results: mean: -23.5 +/- 108.4, min: -335.0 max: 66.0\n",
      "Saving the network weights to: /home/spillingvoid/programs/Wilco/model/wilco-doom.pth\n",
      "Total elapsed time: 760.12 minutes\n",
      "\n",
      "Epoch #54\n"
     ]
    },
    {
     "name": "stderr",
     "output_type": "stream",
     "text": [
      "  1%|          | 1/100 [00:00<00:15,  6.44it/s]      "
     ]
    },
    {
     "name": "stdout",
     "output_type": "stream",
     "text": [
      "Updating Target Net\n",
      "Results: mean: -25.6 +/- 113.8, min: -345.0, max: 66.0,\n",
      "\n",
      "Testing...\n"
     ]
    },
    {
     "name": "stderr",
     "output_type": "stream",
     "text": [
      "  0%|          | 2/12000 [00:00<11:58, 16.69it/s]"
     ]
    },
    {
     "name": "stdout",
     "output_type": "stream",
     "text": [
      "Results: mean: -12.9 +/- 104.8, min: -330.0 max: 66.0\n",
      "Saving the network weights to: /home/spillingvoid/programs/Wilco/model/wilco-doom.pth\n",
      "Total elapsed time: 774.46 minutes\n",
      "\n",
      "Epoch #55\n"
     ]
    },
    {
     "name": "stderr",
     "output_type": "stream",
     "text": [
      "  1%|          | 1/100 [00:00<00:18,  5.35it/s]      "
     ]
    },
    {
     "name": "stdout",
     "output_type": "stream",
     "text": [
      "Updating Target Net\n",
      "Results: mean: -14.7 +/- 103.4, min: -340.0, max: 66.0,\n",
      "\n",
      "Testing...\n"
     ]
    },
    {
     "name": "stderr",
     "output_type": "stream",
     "text": [
      "  0%|          | 2/12000 [00:00<13:41, 14.61it/s]"
     ]
    },
    {
     "name": "stdout",
     "output_type": "stream",
     "text": [
      "Results: mean: -20.2 +/- 104.5, min: -345.0 max: 66.0\n",
      "Saving the network weights to: /home/spillingvoid/programs/Wilco/model/wilco-doom.pth\n",
      "Total elapsed time: 788.87 minutes\n",
      "\n",
      "Epoch #56\n"
     ]
    },
    {
     "name": "stderr",
     "output_type": "stream",
     "text": [
      "  1%|          | 1/100 [00:00<00:13,  7.16it/s]      "
     ]
    },
    {
     "name": "stdout",
     "output_type": "stream",
     "text": [
      "Updating Target Net\n",
      "Results: mean: -13.5 +/- 108.4, min: -345.0, max: 66.0,\n",
      "\n",
      "Testing...\n"
     ]
    },
    {
     "name": "stderr",
     "output_type": "stream",
     "text": [
      "  0%|          | 2/12000 [00:00<10:00, 19.96it/s]"
     ]
    },
    {
     "name": "stdout",
     "output_type": "stream",
     "text": [
      "Results: mean: -27.2 +/- 113.8, min: -325.0 max: 66.0\n",
      "Saving the network weights to: /home/spillingvoid/programs/Wilco/model/wilco-doom.pth\n",
      "Total elapsed time: 803.30 minutes\n",
      "\n",
      "Epoch #57\n"
     ]
    },
    {
     "name": "stderr",
     "output_type": "stream",
     "text": [
      "  1%|          | 1/100 [00:00<00:15,  6.29it/s]      "
     ]
    },
    {
     "name": "stdout",
     "output_type": "stream",
     "text": [
      "Updating Target Net\n",
      "Results: mean: -17.4 +/- 106.8, min: -350.0, max: 66.0,\n",
      "\n",
      "Testing...\n"
     ]
    },
    {
     "name": "stderr",
     "output_type": "stream",
     "text": [
      "  0%|          | 2/12000 [00:00<11:01, 18.12it/s]"
     ]
    },
    {
     "name": "stdout",
     "output_type": "stream",
     "text": [
      "Results: mean: -12.8 +/- 97.0, min: -335.0 max: 66.0\n",
      "Saving the network weights to: /home/spillingvoid/programs/Wilco/model/wilco-doom.pth\n",
      "Total elapsed time: 817.85 minutes\n",
      "\n",
      "Epoch #58\n"
     ]
    },
    {
     "name": "stderr",
     "output_type": "stream",
     "text": [
      "  0%|          | 0/100 [00:00<?, ?it/s]              "
     ]
    },
    {
     "name": "stdout",
     "output_type": "stream",
     "text": [
      "Updating Target Net\n",
      "Results: mean: -13.4 +/- 105.3, min: -345.0, max: 66.0,\n",
      "\n",
      "Testing...\n"
     ]
    },
    {
     "name": "stderr",
     "output_type": "stream",
     "text": [
      "  0%|          | 2/12000 [00:00<10:36, 18.85it/s]"
     ]
    },
    {
     "name": "stdout",
     "output_type": "stream",
     "text": [
      "Results: mean: -0.3 +/- 91.1, min: -340.0 max: 66.0\n",
      "Saving the network weights to: /home/spillingvoid/programs/Wilco/model/wilco-doom.pth\n",
      "Total elapsed time: 832.31 minutes\n",
      "\n",
      "Epoch #59\n"
     ]
    },
    {
     "name": "stderr",
     "output_type": "stream",
     "text": [
      "  1%|          | 1/100 [00:00<00:15,  6.29it/s]      "
     ]
    },
    {
     "name": "stdout",
     "output_type": "stream",
     "text": [
      "Updating Target Net\n",
      "Results: mean: -15.9 +/- 104.0, min: -345.0, max: 66.0,\n",
      "\n",
      "Testing...\n"
     ]
    },
    {
     "name": "stderr",
     "output_type": "stream",
     "text": [
      "  0%|          | 2/12000 [00:00<11:15, 17.75it/s]"
     ]
    },
    {
     "name": "stdout",
     "output_type": "stream",
     "text": [
      "Results: mean: -16.4 +/- 103.0, min: -325.0 max: 66.0\n",
      "Saving the network weights to: /home/spillingvoid/programs/Wilco/model/wilco-doom.pth\n",
      "Total elapsed time: 846.79 minutes\n",
      "\n",
      "Epoch #60\n"
     ]
    },
    {
     "name": "stderr",
     "output_type": "stream",
     "text": [
      "  0%|          | 0/100 [00:00<?, ?it/s]              "
     ]
    },
    {
     "name": "stdout",
     "output_type": "stream",
     "text": [
      "Updating Target Net\n",
      "Results: mean: -7.8 +/- 97.6, min: -350.0, max: 66.0,\n",
      "\n",
      "Testing...\n"
     ]
    },
    {
     "name": "stderr",
     "output_type": "stream",
     "text": [
      "  0%|          | 2/12000 [00:00<10:55, 18.30it/s]"
     ]
    },
    {
     "name": "stdout",
     "output_type": "stream",
     "text": [
      "Results: mean: 2.8 +/- 89.2, min: -335.0 max: 66.0\n",
      "Saving the network weights to: /home/spillingvoid/programs/Wilco/model/wilco-doom.pth\n",
      "Total elapsed time: 861.33 minutes\n",
      "\n",
      "Epoch #61\n"
     ]
    },
    {
     "name": "stderr",
     "output_type": "stream",
     "text": [
      "  1%|          | 1/100 [00:00<00:16,  6.04it/s]      "
     ]
    },
    {
     "name": "stdout",
     "output_type": "stream",
     "text": [
      "Updating Target Net\n",
      "Results: mean: -19.6 +/- 108.6, min: -340.0, max: 66.0,\n",
      "\n",
      "Testing...\n"
     ]
    },
    {
     "name": "stderr",
     "output_type": "stream",
     "text": [
      "  0%|          | 3/12000 [00:00<10:26, 19.14it/s]"
     ]
    },
    {
     "name": "stdout",
     "output_type": "stream",
     "text": [
      "Results: mean: -32.1 +/- 118.6, min: -330.0 max: 66.0\n",
      "Saving the network weights to: /home/spillingvoid/programs/Wilco/model/wilco-doom.pth\n",
      "Total elapsed time: 875.79 minutes\n",
      "\n",
      "Epoch #62\n"
     ]
    },
    {
     "name": "stderr",
     "output_type": "stream",
     "text": [
      "  0%|          | 0/100 [00:00<?, ?it/s]              "
     ]
    },
    {
     "name": "stdout",
     "output_type": "stream",
     "text": [
      "Updating Target Net\n",
      "Results: mean: -22.2 +/- 110.5, min: -350.0, max: 66.0,\n",
      "\n",
      "Testing...\n"
     ]
    },
    {
     "name": "stderr",
     "output_type": "stream",
     "text": [
      "  0%|          | 2/12000 [00:00<10:26, 19.15it/s]"
     ]
    },
    {
     "name": "stdout",
     "output_type": "stream",
     "text": [
      "Results: mean: 0.6 +/- 81.4, min: -325.0 max: 66.0\n",
      "Saving the network weights to: /home/spillingvoid/programs/Wilco/model/wilco-doom.pth\n",
      "Total elapsed time: 890.27 minutes\n",
      "\n",
      "Epoch #63\n"
     ]
    },
    {
     "name": "stderr",
     "output_type": "stream",
     "text": [
      "  0%|          | 0/100 [00:00<?, ?it/s]              "
     ]
    },
    {
     "name": "stdout",
     "output_type": "stream",
     "text": [
      "Updating Target Net\n",
      "Results: mean: -24.9 +/- 110.7, min: -345.0, max: 66.0,\n",
      "\n",
      "Testing...\n"
     ]
    },
    {
     "name": "stderr",
     "output_type": "stream",
     "text": [
      "  0%|          | 2/12000 [00:00<11:07, 17.99it/s]"
     ]
    },
    {
     "name": "stdout",
     "output_type": "stream",
     "text": [
      "Results: mean: -27.3 +/- 109.8, min: -345.0 max: 66.0\n",
      "Saving the network weights to: /home/spillingvoid/programs/Wilco/model/wilco-doom.pth\n",
      "Total elapsed time: 904.86 minutes\n",
      "\n",
      "Epoch #64\n"
     ]
    },
    {
     "name": "stderr",
     "output_type": "stream",
     "text": [
      "  0%|          | 0/100 [00:00<?, ?it/s]              "
     ]
    },
    {
     "name": "stdout",
     "output_type": "stream",
     "text": [
      "Updating Target Net\n",
      "Results: mean: -3.3 +/- 89.6, min: -345.0, max: 66.0,\n",
      "\n",
      "Testing...\n"
     ]
    },
    {
     "name": "stderr",
     "output_type": "stream",
     "text": [
      "                                                 \r"
     ]
    },
    {
     "name": "stdout",
     "output_type": "stream",
     "text": [
      "Results: mean: -5.9 +/- 86.0, min: -335.0 max: 66.0\n",
      "Saving the network weights to: /home/spillingvoid/programs/Wilco/model/wilco-doom.pth\n",
      "Total elapsed time: 919.33 minutes\n",
      "======================================\n",
      "Training finished. It's time to watch!\n",
      "Total score:  42.0\n",
      "Total score:  30.0\n",
      "Total score:  37.0\n",
      "Total score:  42.0\n",
      "Total score:  -195.0\n",
      "Total score:  -10.0\n",
      "Total score:  -164.0\n",
      "Total score:  -44.0\n",
      "Total score:  42.0\n",
      "Total score:  -4.0\n"
     ]
    }
   ],
   "source": [
    "if __name__ == '__main__':\n",
    "    # Initialize game and actions\n",
    "    game = create_simple_game()\n",
    "    n = game.get_available_buttons_size()\n",
    "    actions = [list(a) for a in it.product([0, 1], repeat=n)]\n",
    "\n",
    "    # Initialize our agent with the set parameters\n",
    "    agent = DQNAgent(len(actions), lr=learning_rate, batch_size=batch_size,\n",
    "                     memory_size=replay_memory_size, discount_factor=discount_factor,\n",
    "                     load_model=load_model)\n",
    "\n",
    "    # Run the training for the set number of epochs\n",
    "    if not skip_learning:\n",
    "        agent, game = run(game, agent, actions, num_epochs=train_epochs, \n",
    "                          frame_repeat=frame_repeat,\n",
    "                          steps_per_epoch=learning_steps_per_epoch)\n",
    "\n",
    "        print(\"======================================\")\n",
    "        print(\"Training finished. It's time to watch!\")\n",
    "\n",
    "    # Reinitialize the game with window visible\n",
    "    game.close()\n",
    "    game.set_window_visible(True)\n",
    "    game.set_mode(Mode.ASYNC_PLAYER)\n",
    "    game.init()\n",
    "\n",
    "    for _ in range(episodes_to_watch):\n",
    "        game.new_episode()\n",
    "        while not game.is_episode_finished():\n",
    "            state = preprocess(game.get_state().screen_buffer)\n",
    "            best_action_index = agent.get_action(state)\n",
    "\n",
    "            # Instead of make_action(a, frame_repeat) in order to make the animation smooth\n",
    "            game.set_action(actions[best_action_index])\n",
    "            for _ in range(frame_repeat):\n",
    "                game.advance_action()\n",
    "\n",
    "        # Sleep between episodes\n",
    "        sleep(1.0)\n",
    "        score = game.get_total_reward()\n",
    "        print(\"Total score: \", score)"
   ]
  },
  {
   "cell_type": "code",
   "execution_count": null,
   "id": "a4dcdc0a",
   "metadata": {},
   "outputs": [],
   "source": []
  }
 ],
 "metadata": {
  "kernelspec": {
   "display_name": "Python 3",
   "language": "python",
   "name": "python3"
  },
  "language_info": {
   "codemirror_mode": {
    "name": "ipython",
    "version": 3
   },
   "file_extension": ".py",
   "mimetype": "text/x-python",
   "name": "python",
   "nbconvert_exporter": "python",
   "pygments_lexer": "ipython3",
   "version": "3.8.10"
  }
 },
 "nbformat": 4,
 "nbformat_minor": 5
}
